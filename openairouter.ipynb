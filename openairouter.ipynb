{
  "nbformat": 4,
  "nbformat_minor": 0,
  "metadata": {
    "colab": {
      "provenance": [],
      "gpuType": "T4"
    },
    "kernelspec": {
      "name": "python3",
      "display_name": "Python 3"
    },
    "language_info": {
      "name": "python"
    },
    "accelerator": "GPU"
  },
  "cells": [
    {
      "cell_type": "code",
      "execution_count": 1,
      "metadata": {
        "colab": {
          "base_uri": "https://localhost:8080/"
        },
        "id": "qFmMeI7ycY7I",
        "outputId": "996d36e1-0715-45fd-d726-af6ce9693a7b"
      },
      "outputs": [
        {
          "output_type": "stream",
          "name": "stdout",
          "text": [
            "Sun Feb  9 06:44:23 2025       \n",
            "+-----------------------------------------------------------------------------------------+\n",
            "| NVIDIA-SMI 550.54.15              Driver Version: 550.54.15      CUDA Version: 12.4     |\n",
            "|-----------------------------------------+------------------------+----------------------+\n",
            "| GPU  Name                 Persistence-M | Bus-Id          Disp.A | Volatile Uncorr. ECC |\n",
            "| Fan  Temp   Perf          Pwr:Usage/Cap |           Memory-Usage | GPU-Util  Compute M. |\n",
            "|                                         |                        |               MIG M. |\n",
            "|=========================================+========================+======================|\n",
            "|   0  Tesla T4                       Off |   00000000:00:04.0 Off |                    0 |\n",
            "| N/A   47C    P8             12W /   70W |       0MiB /  15360MiB |      0%      Default |\n",
            "|                                         |                        |                  N/A |\n",
            "+-----------------------------------------+------------------------+----------------------+\n",
            "                                                                                         \n",
            "+-----------------------------------------------------------------------------------------+\n",
            "| Processes:                                                                              |\n",
            "|  GPU   GI   CI        PID   Type   Process name                              GPU Memory |\n",
            "|        ID   ID                                                               Usage      |\n",
            "|=========================================================================================|\n",
            "|  No running processes found                                                             |\n",
            "+-----------------------------------------------------------------------------------------+\n"
          ]
        }
      ],
      "source": [
        "!nvidia-smi"
      ]
    },
    {
      "cell_type": "code",
      "source": [
        "from openai import OpenAI\n",
        "\n",
        "client = OpenAI(\n",
        "  base_url=\"https://openrouter.ai/api/v1\",\n",
        "  api_key=\"enter your own api key\",\n",
        ")\n",
        "\n",
        "completion = client.chat.completions.create(\n",
        "  extra_headers={\n",
        "    \"HTTP-Referer\": \"<YOUR_SITE_URL>\", # Optional. Site URL for rankings on openrouter.ai.\n",
        "    \"X-Title\": \"<YOUR_SITE_NAME>\", # Optional. Site title for rankings on openrouter.ai.\n",
        "  },\n",
        "  extra_body={},\n",
        "  model=\"deepseek/deepseek-r1:free\",\n",
        "  messages=[\n",
        "    {\n",
        "      \"role\": \"user\",\n",
        "      \"content\": \"how non technical learner transit towards datasciece?\"\n",
        "    }\n",
        "  ]\n",
        ")\n",
        "print(completion.choices[0].message.content)"
      ],
      "metadata": {
        "colab": {
          "base_uri": "https://localhost:8080/"
        },
        "id": "ugTbin16dFzr",
        "outputId": "9181b025-fd36-40fb-fdda-659c52d0df5d"
      },
      "execution_count": 2,
      "outputs": [
        {
          "output_type": "stream",
          "name": "stdout",
          "text": [
            "Transitioning from a non-technical background to data science is a challenging but achievable journey. Here’s a structured, step-by-step guide to help you navigate this transition:\n",
            "\n",
            "---\n",
            "\n",
            "### 1. **Build Foundational Knowledge**\n",
            "   - **Statistics & Math**: Start with basic concepts (mean, median, variance, hypothesis testing) using resources like Khan Academy or *\"Naked Statistics\"* by Charles Wheelan.\n",
            "   - **Basic Programming**: Learn Python (beginner-friendly) or R. Use interactive platforms like Codecademy, DataCamp, or free courses like *\"Python for Everybody\"* (Coursera).\n",
            "   - **Excel**: Master pivot tables, VLOOKUP, and basic data manipulation for quick analyses.\n",
            "\n",
            "---\n",
            "\n",
            "### 2. **Learn Data Manipulation & Visualization**\n",
            "   - **Libraries**: Use Python’s Pandas (data cleaning) and Matplotlib/Seaborn (visualization), or tools like Tableau/Power BI.\n",
            "   - **Projects**: Practice with datasets on Kaggle (e.g., Titanic survival, COVID trends). Clean data, create charts, and derive insights.\n",
            "\n",
            "---\n",
            "\n",
            "### 3. **Dive into Machine Learning (ML)**\n",
            "   - **Concepts First**: Understand supervised vs. unsupervised learning, bias-variance tradeoff, and evaluation metrics (accuracy, ROC curves).\n",
            "   - **Tools**: Apply algorithms using Scikit-learn (e.g., linear regression, decision trees) without deep math initially. \n",
            "   - **Courses**: Try Andrew Ng’s *\"Machine Learning\"* (Coursera) or Google’s *\"Machine Learning Crash Course.\"*\n",
            "\n",
            "---\n",
            "\n",
            "### 4. **Master SQL & Databases**\n",
            "   - Learn to query databases with SQL (joins, aggregations) via Mode Analytics’ tutorial or Khan Academy.\n",
            "   - Practice on platforms like LeetCode or HackerRank.\n",
            "\n",
            "---\n",
            "\n",
            "### 5. **Work on Real-World Projects**\n",
            "   - **Portfolio Building**:\n",
            "     - Predict housing prices using regression.\n",
            "     - Analyze customer churn with classification.\n",
            "     - Perform sentiment analysis on Twitter data.\n",
            "   - Use GitHub to showcase code and documentation.\n",
            "\n",
            "---\n",
            "\n",
            "### 6. **Leverage Your Domain Expertise**\n",
            "   - Combine prior experience (e.g., healthcare, marketing) with data science. For example:\n",
            "     - Use retail sales data if you have a business background.\n",
            "     - Analyze clinical trial data if transitioning from healthcare.\n",
            "\n",
            "---\n",
            "\n",
            "### 7. **Adopt Tools & Best Practices**\n",
            "   - **Git/GitHub**: Version control for collaborative coding.\n",
            "   - **Cloud Tools**: Explore AWS, Google Cloud, or free-tier Azure ML for scalable projects.\n",
            "\n",
            "---\n",
            "\n",
            "### 8. **Network & Engage with the Community**\n",
            "   - Join Kaggle competitions, Reddit’s r/datascience, or LinkedIn groups.\n",
            "   - Attend meetups (Meetup.com) or virtual conferences (ODSC).\n",
            "\n",
            "---\n",
            "\n",
            "### 9. **Prepare for the Job Market**\n",
            "   - **Resume**: Highlight projects, technical skills, and domain knowledge.\n",
            "   - **Interviews**: Practice SQL, Python, and case studies on platforms like StrataScratch. Learn to communicate insights clearly.\n",
            "   - **Entry Roles**: Apply for internships, junior data analyst roles, or business intelligence positions to gain experience.\n",
            "\n",
            "---\n",
            "\n",
            "### 10. **Stay Curious & Keep Learning**\n",
            "   - Follow blogs (Towards Data Science, KDnuggets) and podcasts (Data Skeptic).\n",
            "   - Specialize in areas like NLP, deep learning, or data engineering over time.\n",
            "\n",
            "---\n",
            "\n",
            "### Key Resources for Beginners\n",
            "- **Courses**: DataCamp, Coursera (Applied Data Science with Python), edX (Harvard’s CS109).\n",
            "- **Books**: *\"Python for Data Analysis\"* (Wes McKinney), *\"Storytelling with Data\"* (Cole Nussbaumer Knaflic).\n",
            "- **Tools**: Jupyter Notebooks, Google Colab (free coding environment).\n",
            "\n",
            "---\n",
            "\n",
            "### Mindset Tips\n",
            "- Start small and iterate—complexity comes with practice.\n",
            "- Embrace mistakes as learning opportunities.\n",
            "- Connect with mentors via platforms like LinkedIn or local tech communities.\n",
            "\n",
            "This journey requires persistence, but blending curiosity with consistent effort will help you bridge the gap. Focus on **applied learning** over theory, and let your projects tell your story!\n"
          ]
        }
      ]
    }
  ]
}